{
 "cells": [
  {
   "cell_type": "code",
   "execution_count": 1,
   "id": "b66c26c0",
   "metadata": {},
   "outputs": [],
   "source": [
    "import requests\n",
    "import json\n",
    "import prettytable\n"
   ]
  },
  {
   "cell_type": "code",
   "execution_count": 23,
   "id": "a0ac61f3",
   "metadata": {},
   "outputs": [],
   "source": [
    "import pandas as pd\n",
    "import json\n",
    "import requests\n",
    "\n",
    "headers = {'Content-type': 'application/json'}\n",
    "data = json.dumps({\"seriesid\": ['APU0000FL2101'],\"startyear\":\"2012\", \"endyear\":\"2021\"})\n",
    "p = requests.post('https://api.bls.gov/publicAPI/v1/timeseries/data/', data=data, headers=headers)\n",
    "json_data = json.loads(p.text)\n",
    "try:\n",
    "    df = pd.DataFrame()\n",
    "    for series in json_data['Results']['series']:\n",
    "        df_initial = pd.DataFrame(series)\n",
    "        series_col = df_initial['seriesID'][0]\n",
    "        for i in range(0, len(df_initial) - 1):\n",
    "            df_row = pd.DataFrame(df_initial['data'][i])\n",
    "            df_row['seriesID'] = series_col\n",
    "            if 'code' not in str(df_row['footnotes']): \n",
    "                df_row['footnotes'] = ''\n",
    "            else:\n",
    "                df_row['footnotes'] = str(df_row['footnotes']).split(\"'code': '\",1)[1][:1]\n",
    "            df = df.append(df_row, ignore_index=True)\n",
    "    #Change file name for Food item being pulled\n",
    "    df.to_csv('Lettuce.csv', index=False)\n",
    "except:\n",
    "    json_data['status'] == 'REQUEST_NOT_PROCESSED'\n",
    "    print('BLS API has given the following Response:', json_data['status'])\n",
    "    print('Reason:', json_data['message'])"
   ]
  },
  {
   "cell_type": "code",
   "execution_count": null,
   "id": "155b4ce3",
   "metadata": {},
   "outputs": [],
   "source": []
  },
  {
   "cell_type": "code",
   "execution_count": null,
   "id": "4cc657db",
   "metadata": {},
   "outputs": [],
   "source": []
  }
 ],
 "metadata": {
  "kernelspec": {
   "display_name": "PythonData",
   "language": "python",
   "name": "pythondata"
  },
  "language_info": {
   "codemirror_mode": {
    "name": "ipython",
    "version": 3
   },
   "file_extension": ".py",
   "mimetype": "text/x-python",
   "name": "python",
   "nbconvert_exporter": "python",
   "pygments_lexer": "ipython3",
   "version": "3.7.11"
  }
 },
 "nbformat": 4,
 "nbformat_minor": 5
}
