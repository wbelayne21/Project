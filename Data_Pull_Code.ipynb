{
 "cells": [
  {
   "cell_type": "code",
   "execution_count": 1,
   "id": "b66c26c0",
   "metadata": {},
   "outputs": [
    {
     "name": "stdout",
     "output_type": "stream",
     "text": [
      "Successfully made csv file\n"
     ]
    }
   ],
   "source": [
    "import pandas as pd \n",
    " \n",
    "tsv_file='us_national_market_tracker.tsv000'\n",
    " \n",
    "# readinag given tsv file\n",
    "csv_table=pd.read_table(tsv_file,sep='\\t')\n",
    " \n",
    "# converting tsv file into csv\n",
    "csv_table.to_csv('us_national_market_tracker.csv',index=False)\n",
    " \n",
    "# output\n",
    "print(\"Successfully made csv file\")\n"
   ]
  },
  {
   "cell_type": "code",
   "execution_count": 23,
   "id": "a0ac61f3",
   "metadata": {},
   "outputs": [],
   "source": []
  },
  {
   "cell_type": "code",
   "execution_count": null,
   "id": "155b4ce3",
   "metadata": {},
   "outputs": [],
   "source": []
  },
  {
   "cell_type": "code",
   "execution_count": null,
   "id": "4cc657db",
   "metadata": {},
   "outputs": [],
   "source": []
  }
 ],
 "metadata": {
  "kernelspec": {
   "display_name": "PythonData",
   "language": "python",
   "name": "pythondata"
  },
  "language_info": {
   "codemirror_mode": {
    "name": "ipython",
    "version": 3
   },
   "file_extension": ".py",
   "mimetype": "text/x-python",
   "name": "python",
   "nbconvert_exporter": "python",
   "pygments_lexer": "ipython3",
   "version": "3.7.11"
  }
 },
 "nbformat": 4,
 "nbformat_minor": 5
}
